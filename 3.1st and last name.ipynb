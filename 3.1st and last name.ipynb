{
 "cells": [
  {
   "cell_type": "code",
   "execution_count": 12,
   "metadata": {},
   "outputs": [
    {
     "name": "stdin",
     "output_type": "stream",
     "text": [
      "Enter First name: Sid\n",
      "Enter Last name: T\n"
     ]
    },
    {
     "name": "stdout",
     "output_type": "stream",
     "text": [
      "T Sid\n"
     ]
    }
   ],
   "source": [
    "First_Name = input('Enter First name:')\n",
    "Last_name = input('Enter Last name:')\n",
    "print(Last_name, First_Name)"
   ]
  }
 ],
 "metadata": {
  "kernelspec": {
   "display_name": "Python 3",
   "language": "python",
   "name": "python3"
  },
  "language_info": {
   "codemirror_mode": {
    "name": "ipython",
    "version": 3
   },
   "file_extension": ".py",
   "mimetype": "text/x-python",
   "name": "python",
   "nbconvert_exporter": "python",
   "pygments_lexer": "ipython3",
   "version": "3.7.3"
  }
 },
 "nbformat": 4,
 "nbformat_minor": 4
}
